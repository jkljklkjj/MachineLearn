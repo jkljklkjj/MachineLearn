{
 "cells": [
  {
   "cell_type": "code",
   "execution_count": 9,
   "metadata": {},
   "outputs": [
    {
     "name": "stdout",
     "output_type": "stream",
     "text": [
      "<class 'pandas.core.frame.DataFrame'>\n",
      "RangeIndex: 1760 entries, 0 to 1759\n",
      "Data columns (total 12 columns):\n",
      " #   Column  Non-Null Count  Dtype  \n",
      "---  ------  --------------  -----  \n",
      " 0   日期      1760 non-null   object \n",
      " 1   股票代码    1760 non-null   int64  \n",
      " 2   开盘      1760 non-null   float64\n",
      " 3   收盘      1760 non-null   float64\n",
      " 4   最高      1760 non-null   float64\n",
      " 5   最低      1760 non-null   float64\n",
      " 6   成交量     1760 non-null   int64  \n",
      " 7   成交额     1760 non-null   float64\n",
      " 8   振幅      1760 non-null   float64\n",
      " 9   涨跌幅     1760 non-null   float64\n",
      " 10  涨跌额     1760 non-null   float64\n",
      " 11  换手率     1760 non-null   float64\n",
      "dtypes: float64(9), int64(2), object(1)\n",
      "memory usage: 165.1+ KB\n"
     ]
    }
   ],
   "source": [
    "import pandas as pd\n",
    "df = pd.read_csv('stock_data.csv')\n",
    "df.info()#引入并展示数据"
   ]
  },
  {
   "cell_type": "markdown",
   "metadata": {},
   "source": [
    "把日期转换成时间格式，筛选数据并进行归一化"
   ]
  },
  {
   "cell_type": "code",
   "execution_count": 10,
   "metadata": {},
   "outputs": [
    {
     "name": "stdout",
     "output_type": "stream",
     "text": [
      "            开盘        最高        收盘        最低       成交量\n",
      "0     0.056881  0.055722  0.055961  0.063472  0.024771\n",
      "1     0.058104  0.055123  0.052311  0.060361  0.036502\n",
      "2     0.051988  0.048532  0.050487  0.056627  0.023873\n",
      "3     0.051376  0.050330  0.053528  0.058494  0.036685\n",
      "4     0.053823  0.050330  0.053528  0.059116  0.013934\n",
      "...        ...       ...       ...       ...       ...\n",
      "1755  0.183486  0.186938  0.181873  0.187306  0.391089\n",
      "1756  0.181651  0.177951  0.172141  0.181705  0.334354\n",
      "1757  0.171865  0.171959  0.166667  0.177349  0.242523\n",
      "1758  0.168196  0.174356  0.178832  0.177971  0.254140\n",
      "1759  0.179817  0.177352  0.172141  0.181083  0.202350\n",
      "\n",
      "[1760 rows x 5 columns]\n"
     ]
    }
   ],
   "source": [
    "\n",
    "columns = ['开盘', '最高', '收盘', '最低', '成交量']\n",
    "df['日期']=pd.to_datetime(df['日期'])\n",
    "df = df[columns]\n",
    "from sklearn.preprocessing import MinMaxScaler\n",
    "scaler = MinMaxScaler()\n",
    "for col in df.columns:\n",
    "    if col not in ['日期', '股票代码']:\n",
    "        df[col] = scaler.fit_transform(df[col].values.reshape(-1, 1))\n",
    "print(df)"
   ]
  },
  {
   "cell_type": "markdown",
   "metadata": {},
   "source": [
    "绘制这些变量随时间的变化"
   ]
  },
  {
   "cell_type": "code",
   "execution_count": 11,
   "metadata": {},
   "outputs": [],
   "source": [
    "import numpy as np\n",
    "def data_split(dataset, look_back=60):\n",
    "    X, y = [], []\n",
    "    for i in range(len(dataset)-look_back-1):\n",
    "        a = dataset[i:(i+look_back), :]\n",
    "        X.append(a)\n",
    "        y.append(dataset[i + look_back, 3])\n",
    "    return np.array(X), np.array(y)"
   ]
  },
  {
   "cell_type": "markdown",
   "metadata": {},
   "source": [
    "定义神经网络并进行训练"
   ]
  },
  {
   "cell_type": "code",
   "execution_count": null,
   "metadata": {},
   "outputs": [],
   "source": [
    "import keras\n",
    "model = Sequential()\n",
    "model.add(Conv1D(filters=64, kernel_size=3, activation='relu', input_shape=(X.shape[1], X.shape[2])))\n",
    "model.add(Dropout(0.2))\n",
    "model.add(LSTM(50, return_sequences=False))\n",
    "model.add(Dropout(0.2))\n",
    "model.add(Dense(1))\n",
    "\n",
    "model.compile(optimizer=Adam(), loss='mean_squared_error')"
   ]
  }
 ],
 "metadata": {
  "kernelspec": {
   "display_name": "Python 3",
   "language": "python",
   "name": "python3"
  },
  "language_info": {
   "codemirror_mode": {
    "name": "ipython",
    "version": 3
   },
   "file_extension": ".py",
   "mimetype": "text/x-python",
   "name": "python",
   "nbconvert_exporter": "python",
   "pygments_lexer": "ipython3",
   "version": "3.12.1"
  }
 },
 "nbformat": 4,
 "nbformat_minor": 2
}
